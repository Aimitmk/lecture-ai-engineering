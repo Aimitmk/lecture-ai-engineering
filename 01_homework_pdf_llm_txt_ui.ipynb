{
  "cells": [
    {
      "cell_type": "markdown",
      "source": [
        "# 第1回の宿題\n",
        "\n",
        "## GPT-4o-mini APIを活用した文字認識されていないPDF文書からのテキスト抽出ツールのStreamlitによるUI\n",
        "\n",
        "動機としてはNotebookLMでマインドマップ化したいPDFがあったのですが、文字認識されておらずadobeのOCRを試したがその精度も完璧ではなかったためです。\n",
        "\n",
        "背景としては自身がアクチュアリーという資格の2次試験を今年受験予定であり、その教科書がPDFで公開されているものの文字認識されていないものが数多く含まれていたことです。\n",
        "\n",
        "文字認識されていないPDFの例:\n",
        "\n",
        "https://www.actuaries.jp/examin/textbook/pdf/hoken1-seiho_06.pdf"
      ],
      "metadata": {
        "id": "ks3jQcDGTebk"
      },
      "id": "ks3jQcDGTebk"
    },
    {
      "cell_type": "markdown",
      "source": [
        "## 環境変数の設定"
      ],
      "metadata": {
        "id": "jeo8pLs1DABu"
      },
      "id": "jeo8pLs1DABu"
    },
    {
      "cell_type": "code",
      "source": [
        "!git clone https://github.com/aimitmk/lecture-ai-engineering.git"
      ],
      "metadata": {
        "colab": {
          "base_uri": "https://localhost:8080/"
        },
        "id": "-XfNq5PQCxLv",
        "outputId": "d086c893-633e-45de-e579-789f1b32a3d6"
      },
      "id": "-XfNq5PQCxLv",
      "execution_count": null,
      "outputs": [
        {
          "output_type": "stream",
          "name": "stdout",
          "text": [
            "Cloning into 'lecture-ai-engineering'...\n",
            "remote: Enumerating objects: 52, done.\u001b[K\n",
            "remote: Counting objects: 100% (39/39), done.\u001b[K\n",
            "remote: Compressing objects: 100% (33/33), done.\u001b[K\n",
            "remote: Total 52 (delta 9), reused 8 (delta 6), pack-reused 13 (from 1)\u001b[K\n",
            "Receiving objects: 100% (52/52), 57.96 KiB | 1.93 MiB/s, done.\n",
            "Resolving deltas: 100% (9/9), done.\n"
          ]
        }
      ]
    },
    {
      "cell_type": "code",
      "source": [
        "!pip install python-dotenv\n",
        "from dotenv import load_dotenv, find_dotenv\n",
        "\n",
        "%cd /content/lecture-ai-engineering/day1\n",
        "load_dotenv(find_dotenv())"
      ],
      "metadata": {
        "colab": {
          "base_uri": "https://localhost:8080/"
        },
        "id": "Mi52QGsaC8F4",
        "outputId": "567edd27-07a4-4621-dcdd-bca924f3ad85"
      },
      "id": "Mi52QGsaC8F4",
      "execution_count": 3,
      "outputs": [
        {
          "output_type": "stream",
          "name": "stdout",
          "text": [
            "Requirement already satisfied: python-dotenv in /usr/local/lib/python3.11/dist-packages (1.1.0)\n",
            "/content/lecture-ai-engineering/day1\n"
          ]
        },
        {
          "output_type": "execute_result",
          "data": {
            "text/plain": [
              "True"
            ]
          },
          "metadata": {},
          "execution_count": 3
        }
      ]
    },
    {
      "cell_type": "markdown",
      "id": "116db9dd",
      "metadata": {
        "id": "116db9dd"
      },
      "source": [
        "## ライブラリのインストール"
      ]
    },
    {
      "cell_type": "code",
      "source": [
        "%cd /content/lecture-ai-engineering"
      ],
      "metadata": {
        "colab": {
          "base_uri": "https://localhost:8080/"
        },
        "id": "jjeD83ZCDNaO",
        "outputId": "46002dff-3232-4a8c-f31d-f2e655fab2b5"
      },
      "id": "jjeD83ZCDNaO",
      "execution_count": 4,
      "outputs": [
        {
          "output_type": "stream",
          "name": "stdout",
          "text": [
            "/content/lecture-ai-engineering\n"
          ]
        }
      ]
    },
    {
      "cell_type": "code",
      "source": [
        "%%capture\n",
        "!pip install -r requirements.txt"
      ],
      "metadata": {
        "id": "Q3MUK7HVHck4"
      },
      "id": "Q3MUK7HVHck4",
      "execution_count": 5,
      "outputs": []
    },
    {
      "cell_type": "code",
      "execution_count": 6,
      "id": "fac001a3",
      "metadata": {
        "colab": {
          "base_uri": "https://localhost:8080/"
        },
        "id": "fac001a3",
        "outputId": "64f88fae-683a-4d6f-f066-0f9af922fb08"
      },
      "outputs": [
        {
          "output_type": "stream",
          "name": "stdout",
          "text": [
            "Get:1 http://security.ubuntu.com/ubuntu jammy-security InRelease [129 kB]\n",
            "Get:2 https://cloud.r-project.org/bin/linux/ubuntu jammy-cran40/ InRelease [3,632 B]\n",
            "Get:3 https://developer.download.nvidia.com/compute/cuda/repos/ubuntu2204/x86_64  InRelease [1,581 B]\n",
            "Get:4 https://r2u.stat.illinois.edu/ubuntu jammy InRelease [6,555 B]\n",
            "Hit:5 http://archive.ubuntu.com/ubuntu jammy InRelease\n",
            "Get:6 http://archive.ubuntu.com/ubuntu jammy-updates InRelease [128 kB]\n",
            "Hit:7 https://ppa.launchpadcontent.net/deadsnakes/ppa/ubuntu jammy InRelease\n",
            "Get:8 https://ppa.launchpadcontent.net/graphics-drivers/ppa/ubuntu jammy InRelease [24.3 kB]\n",
            "Get:9 http://archive.ubuntu.com/ubuntu jammy-backports InRelease [127 kB]\n",
            "Hit:10 https://ppa.launchpadcontent.net/ubuntugis/ppa/ubuntu jammy InRelease\n",
            "Get:11 https://developer.download.nvidia.com/compute/cuda/repos/ubuntu2204/x86_64  Packages [1,607 kB]\n",
            "Get:12 https://r2u.stat.illinois.edu/ubuntu jammy/main all Packages [8,864 kB]\n",
            "Get:13 https://r2u.stat.illinois.edu/ubuntu jammy/main amd64 Packages [2,701 kB]\n",
            "Get:14 http://archive.ubuntu.com/ubuntu jammy-updates/main amd64 Packages [3,154 kB]\n",
            "Get:15 https://ppa.launchpadcontent.net/graphics-drivers/ppa/ubuntu jammy/main amd64 Packages [47.4 kB]\n",
            "Get:16 http://archive.ubuntu.com/ubuntu jammy-updates/universe amd64 Packages [1,543 kB]\n",
            "Fetched 18.3 MB in 6s (3,033 kB/s)\n",
            "Reading package lists... Done\n",
            "W: Skipping acquire of configured file 'main/source/Sources' as repository 'https://r2u.stat.illinois.edu/ubuntu jammy InRelease' does not seem to provide it (sources.list entry misspelt?)\n",
            "Reading package lists... Done\n",
            "Building dependency tree... Done\n",
            "Reading state information... Done\n",
            "The following NEW packages will be installed:\n",
            "  poppler-utils\n",
            "0 upgraded, 1 newly installed, 0 to remove and 35 not upgraded.\n",
            "Need to get 186 kB of archives.\n",
            "After this operation, 696 kB of additional disk space will be used.\n",
            "Get:1 http://archive.ubuntu.com/ubuntu jammy-updates/main amd64 poppler-utils amd64 22.02.0-2ubuntu0.7 [186 kB]\n",
            "Fetched 186 kB in 1s (277 kB/s)\n",
            "Selecting previously unselected package poppler-utils.\n",
            "(Reading database ... 126333 files and directories currently installed.)\n",
            "Preparing to unpack .../poppler-utils_22.02.0-2ubuntu0.7_amd64.deb ...\n",
            "Unpacking poppler-utils (22.02.0-2ubuntu0.7) ...\n",
            "Setting up poppler-utils (22.02.0-2ubuntu0.7) ...\n",
            "Processing triggers for man-db (2.10.2-1) ...\n"
          ]
        }
      ],
      "source": [
        "!apt-get update\n",
        "!apt-get install -y poppler-utils"
      ]
    },
    {
      "cell_type": "markdown",
      "id": "f803f49e",
      "metadata": {
        "id": "f803f49e"
      },
      "source": [
        "## ライブラリのインポート"
      ]
    },
    {
      "cell_type": "code",
      "execution_count": 7,
      "id": "842a6fb4",
      "metadata": {
        "id": "842a6fb4"
      },
      "outputs": [],
      "source": [
        "import os\n",
        "import io\n",
        "import base64\n",
        "import tempfile\n",
        "import time\n",
        "import PyPDF2\n",
        "import openai\n",
        "from tqdm.notebook import tqdm\n",
        "from pdf2image import convert_from_path, convert_from_bytes\n",
        "from PIL import Image\n",
        "import re\n",
        "import json\n",
        "from IPython.display import display, HTML"
      ]
    },
    {
      "cell_type": "markdown",
      "id": "0dcf4e44",
      "metadata": {
        "id": "0dcf4e44"
      },
      "source": [
        "## Streamlitによる対話型UI\n",
        "\n",
        "以下のセルを実行すると、Streamlitアプリケーションが起動し、ngrokを使用して公開URLが生成されます。\n",
        "このURLにアクセスすることで、Webブラウザから対話的にPDF文書からのテキスト抽出が可能になります。"
      ]
    },
    {
      "cell_type": "code",
      "source": [
        "!ngrok authtoken $$NGROK_TOKEN"
      ],
      "metadata": {
        "colab": {
          "base_uri": "https://localhost:8080/"
        },
        "id": "ziJTgjukOM_e",
        "outputId": "2a17c8f6-678f-4122-830d-4e0c86571e3e"
      },
      "id": "ziJTgjukOM_e",
      "execution_count": 8,
      "outputs": [
        {
          "output_type": "stream",
          "name": "stdout",
          "text": [
            "Authtoken saved to configuration file: /root/.ngrok2/ngrok.yml\n"
          ]
        }
      ]
    },
    {
      "cell_type": "code",
      "execution_count": 9,
      "id": "7d3c74e6",
      "metadata": {
        "colab": {
          "base_uri": "https://localhost:8080/"
        },
        "id": "7d3c74e6",
        "outputId": "b827afe9-7f8a-4adb-9e76-ec5f639ade68"
      },
      "outputs": [
        {
          "output_type": "stream",
          "name": "stdout",
          "text": [
            "/content/lecture-ai-engineering\n"
          ]
        },
        {
          "output_type": "stream",
          "name": "stderr",
          "text": [
            "WARNING:pyngrok.process.ngrok:t=2025-04-28T12:02:56+0000 lvl=warn msg=\"ngrok config file found at legacy location, move to XDG location\" xdg_path=/root/.config/ngrok/ngrok.yml legacy_path=/root/.ngrok2/ngrok.yml\n"
          ]
        },
        {
          "output_type": "stream",
          "name": "stdout",
          "text": [
            "公開URL: https://95ba-34-132-100-108.ngrok-free.app\n",
            "このURLにアクセスして、Streamlitアプリケーションを使用できます。\n",
            "注意: このセルを実行している間はアプリケーションが利用可能です。中断するとアクセスできなくなります。\n",
            "\n",
            "Collecting usage statistics. To deactivate, set browser.gatherUsageStats to False.\n",
            "\u001b[0m\n",
            "\u001b[0m\n",
            "\u001b[34m\u001b[1m  You can now view your Streamlit app in your browser.\u001b[0m\n",
            "\u001b[0m\n",
            "\u001b[34m  Network URL: \u001b[0m\u001b[1mhttp://172.28.0.12:8501\u001b[0m\n",
            "\u001b[34m  External URL: \u001b[0m\u001b[1mhttp://34.132.100.108:8501\u001b[0m\n",
            "\u001b[0m\n",
            "\u001b[34m  Stopping...\u001b[0m\n",
            "\u001b[34m  Stopping...\u001b[0m\n"
          ]
        }
      ],
      "source": [
        "# Streamlitアプリの起動\n",
        "from pyngrok import ngrok\n",
        "\n",
        "# 現在のディレクトリを確認\n",
        "!pwd\n",
        "\n",
        "# 8501ポートをngrokで公開\n",
        "public_url = ngrok.connect(8501).public_url\n",
        "print(f\"公開URL: {public_url}\")\n",
        "print(\"このURLにアクセスして、Streamlitアプリケーションを使用できます。\")\n",
        "print(\"注意: このセルを実行している間はアプリケーションが利用可能です。中断するとアクセスできなくなります。\")\n",
        "\n",
        "# Streamlitアプリを実行\n",
        "!streamlit run pdf_extraction_app.py"
      ]
    },
    {
      "cell_type": "code",
      "execution_count": 10,
      "id": "24ebb13e",
      "metadata": {
        "colab": {
          "base_uri": "https://localhost:8080/"
        },
        "id": "24ebb13e",
        "outputId": "37927e89-7ee1-4b9c-cecd-96fd062d9110"
      },
      "outputs": [
        {
          "output_type": "stream",
          "name": "stdout",
          "text": [
            "ngrokのトンネルが削除されました。\n"
          ]
        }
      ],
      "source": [
        "# 後片付け: ngrokのトンネルを削除\n",
        "# このセルは、アプリの使用が終わったら実行してください\n",
        "from pyngrok import ngrok\n",
        "ngrok.kill()\n",
        "print(\"ngrokのトンネルが削除されました。\")"
      ]
    }
  ],
  "metadata": {
    "colab": {
      "provenance": [],
      "toc_visible": true
    },
    "kernelspec": {
      "display_name": ".venv",
      "language": "python",
      "name": "python3"
    },
    "language_info": {
      "codemirror_mode": {
        "name": "ipython",
        "version": 3
      },
      "file_extension": ".py",
      "mimetype": "text/x-python",
      "name": "python",
      "nbconvert_exporter": "python",
      "pygments_lexer": "ipython3",
      "version": "3.9.6"
    }
  },
  "nbformat": 4,
  "nbformat_minor": 5
}